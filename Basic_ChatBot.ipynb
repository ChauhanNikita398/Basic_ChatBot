{
  "nbformat": 4,
  "nbformat_minor": 0,
  "metadata": {
    "colab": {
      "name": "Basic_ChatBot.ipynb",
      "provenance": [],
      "collapsed_sections": [],
      "authorship_tag": "ABX9TyMGY1P3C3waTmrd138seWl3",
      "include_colab_link": true
    },
    "kernelspec": {
      "name": "python3",
      "display_name": "Python 3"
    },
    "language_info": {
      "name": "python"
    }
  },
  "cells": [
    {
      "cell_type": "markdown",
      "metadata": {
        "id": "view-in-github",
        "colab_type": "text"
      },
      "source": [
        "<a href=\"https://colab.research.google.com/github/ChauhanNikita398/Basic_ChatBot/blob/main/Basic_ChatBot.ipynb\" target=\"_parent\"><img src=\"https://colab.research.google.com/assets/colab-badge.svg\" alt=\"Open In Colab\"/></a>"
      ]
    },
    {
      "cell_type": "code",
      "metadata": {
        "colab": {
          "base_uri": "https://localhost:8080/"
        },
        "id": "jVtNTIxKlpjq",
        "outputId": "55896085-2138-40ad-8d47-921efe493769"
      },
      "source": [
        "pip install chatterbot"
      ],
      "execution_count": 1,
      "outputs": [
        {
          "output_type": "stream",
          "text": [
            "Collecting chatterbot\n",
            "\u001b[?25l  Downloading https://files.pythonhosted.org/packages/7c/21/85c2b114bd9dfabdd46ba58fc4519acdaed45d8c70898d40079e37a45e67/ChatterBot-1.0.8-py2.py3-none-any.whl (63kB)\n",
            "\r\u001b[K     |█████▏                          | 10kB 19.8MB/s eta 0:00:01\r\u001b[K     |██████████▎                     | 20kB 15.3MB/s eta 0:00:01\r\u001b[K     |███████████████▌                | 30kB 15.3MB/s eta 0:00:01\r\u001b[K     |████████████████████▋           | 40kB 16.0MB/s eta 0:00:01\r\u001b[K     |█████████████████████████▊      | 51kB 13.8MB/s eta 0:00:01\r\u001b[K     |███████████████████████████████ | 61kB 15.2MB/s eta 0:00:01\r\u001b[K     |████████████████████████████████| 71kB 5.1MB/s \n",
            "\u001b[?25hRequirement already satisfied: pytz in /usr/local/lib/python3.7/dist-packages (from chatterbot) (2018.9)\n",
            "Collecting mathparse<0.2,>=0.1\n",
            "  Downloading https://files.pythonhosted.org/packages/c3/e5/4910fb85950cb960fcf3f5aabe1c8e55f5c9201788a1c1302b570a7e1f84/mathparse-0.1.2-py3-none-any.whl\n",
            "Requirement already satisfied: python-dateutil<2.9,>=2.8 in /usr/local/lib/python3.7/dist-packages (from chatterbot) (2.8.1)\n",
            "Requirement already satisfied: sqlalchemy<1.4,>=1.3 in /usr/local/lib/python3.7/dist-packages (from chatterbot) (1.3.23)\n",
            "Requirement already satisfied: six>=1.5 in /usr/local/lib/python3.7/dist-packages (from python-dateutil<2.9,>=2.8->chatterbot) (1.15.0)\n",
            "Installing collected packages: mathparse, chatterbot\n",
            "Successfully installed chatterbot-1.0.8 mathparse-0.1.2\n"
          ],
          "name": "stdout"
        }
      ]
    },
    {
      "cell_type": "code",
      "metadata": {
        "colab": {
          "base_uri": "https://localhost:8080/"
        },
        "id": "eFvnvapAoRUa",
        "outputId": "e48525dd-f1ae-4958-b6d8-de107a79de81"
      },
      "source": [
        "pip install chatterbot_corpus"
      ],
      "execution_count": 2,
      "outputs": [
        {
          "output_type": "stream",
          "text": [
            "Collecting chatterbot_corpus\n",
            "\u001b[?25l  Downloading https://files.pythonhosted.org/packages/ed/19/f8b41daf36fe4b0f43e283a820362ffdb2c1128600ab4ee187e84262fa4d/chatterbot_corpus-1.2.0-py2.py3-none-any.whl (117kB)\n",
            "\r\u001b[K     |██▉                             | 10kB 21.0MB/s eta 0:00:01\r\u001b[K     |█████▋                          | 20kB 30.2MB/s eta 0:00:01\r\u001b[K     |████████▍                       | 30kB 24.5MB/s eta 0:00:01\r\u001b[K     |███████████▏                    | 40kB 17.9MB/s eta 0:00:01\r\u001b[K     |██████████████                  | 51kB 14.7MB/s eta 0:00:01\r\u001b[K     |████████████████▊               | 61kB 14.6MB/s eta 0:00:01\r\u001b[K     |███████████████████▋            | 71kB 13.7MB/s eta 0:00:01\r\u001b[K     |██████████████████████▍         | 81kB 12.4MB/s eta 0:00:01\r\u001b[K     |█████████████████████████▏      | 92kB 12.7MB/s eta 0:00:01\r\u001b[K     |████████████████████████████    | 102kB 12.5MB/s eta 0:00:01\r\u001b[K     |██████████████████████████████▊ | 112kB 12.5MB/s eta 0:00:01\r\u001b[K     |████████████████████████████████| 122kB 12.5MB/s \n",
            "\u001b[?25hRequirement already satisfied: PyYAML<4.0,>=3.12 in /usr/local/lib/python3.7/dist-packages (from chatterbot_corpus) (3.13)\n",
            "Installing collected packages: chatterbot-corpus\n",
            "Successfully installed chatterbot-corpus-1.2.0\n"
          ],
          "name": "stdout"
        }
      ]
    },
    {
      "cell_type": "code",
      "metadata": {
        "id": "Suv7T2X1oYPb"
      },
      "source": [
        "from chatterbot import ChatBot\n",
        "from chatterbot.trainers import ListTrainer"
      ],
      "execution_count": 3,
      "outputs": []
    },
    {
      "cell_type": "code",
      "metadata": {
        "id": "FuZugIrUtBX3"
      },
      "source": [
        "my_Bot=ChatBot(name='PyBot',read_only=True,logic_adapters=['chatterbot.logic.MathematicalEvaluation','chatterbot.logic.BestMatch'])"
      ],
      "execution_count": 4,
      "outputs": []
    },
    {
      "cell_type": "code",
      "metadata": {
        "colab": {
          "base_uri": "https://localhost:8080/"
        },
        "id": "6l3OVzapxSkb",
        "outputId": "fe4823a2-405d-4807-f26b-31bb3ae16e2e"
      },
      "source": [
        "#training over small data \n",
        "small_talk=['hi there!',\n",
        "            'hi!',\n",
        "            'how are you?',\n",
        "            'i\\'m cool.',\n",
        "            'fine,you?',\n",
        "            'always cool.',\n",
        "            'i\\'m ok',\n",
        "            'glad to hear that.',\n",
        "            'i\\'m fine',\n",
        "            'glad to hear that.',\n",
        "            'i feel awesome',\n",
        "            'excellent, glad to hear that',\n",
        "            'not so good',\n",
        "            'sorry to hear that.',\n",
        "            'what\\'s your name?',\n",
        "            'i\\'m PyBot. Ask me anything']\n",
        "\n",
        "math_talk_1=['pythagorean theorem',\n",
        "            'a squared plus b squared equals c squared']\n",
        "math_talk_2=['laws of cosines',\n",
        "             'c**2 = a**2 + b**2 - 2*a*b*cos(gamma)']\n",
        "\n",
        "list_trainer=ListTrainer(my_Bot)\n",
        "\n",
        "for item in (small_talk,math_talk_1,math_talk_2):\n",
        "  list_trainer.train(item)\n",
        "\n"
      ],
      "execution_count": 7,
      "outputs": [
        {
          "output_type": "stream",
          "text": [
            "List Trainer: [####################] 100%\n",
            "List Trainer: [####################] 100%\n",
            "List Trainer: [####################] 100%\n"
          ],
          "name": "stdout"
        }
      ]
    },
    {
      "cell_type": "code",
      "metadata": {
        "id": "Nux6RrQi36eZ"
      },
      "source": [
        ""
      ],
      "execution_count": null,
      "outputs": []
    },
    {
      "cell_type": "code",
      "metadata": {
        "colab": {
          "base_uri": "https://localhost:8080/"
        },
        "id": "KuGD4qLl1YRt",
        "outputId": "3faa82b2-9776-4621-dc56-c941d9b57a73"
      },
      "source": [
        "#example\n",
        "print(my_Bot.get_response('hi'))"
      ],
      "execution_count": 8,
      "outputs": [
        {
          "output_type": "stream",
          "text": [
            "how are you?\n"
          ],
          "name": "stdout"
        }
      ]
    },
    {
      "cell_type": "code",
      "metadata": {
        "colab": {
          "base_uri": "https://localhost:8080/"
        },
        "id": "-RSZ-AiX1up1",
        "outputId": "eb2f11e2-27d6-476c-fbec-8be30b9969fb"
      },
      "source": [
        "#example\n",
        "print(my_Bot.get_response('i feel awesome today'))"
      ],
      "execution_count": 9,
      "outputs": [
        {
          "output_type": "stream",
          "text": [
            "excellent, glad to hear that\n"
          ],
          "name": "stdout"
        }
      ]
    },
    {
      "cell_type": "code",
      "metadata": {
        "colab": {
          "base_uri": "https://localhost:8080/"
        },
        "id": "nsZ3GRz413NA",
        "outputId": "14507794-2978-461c-a009-a32325550fcf"
      },
      "source": [
        "#example\n",
        "print(my_Bot.get_response('do you know the law of cosines?'))"
      ],
      "execution_count": 10,
      "outputs": [
        {
          "output_type": "stream",
          "text": [
            "c**2 = a**2 + b**2 - 2*a*b*cos(gamma)\n"
          ],
          "name": "stdout"
        }
      ]
    },
    {
      "cell_type": "code",
      "metadata": {
        "colab": {
          "base_uri": "https://localhost:8080/"
        },
        "id": "Sy0sGfXy1_2m",
        "outputId": "04388099-a402-4fee-eae9-1157fb872cb9"
      },
      "source": [
        "#Training PyBot with an existing corpus of data\n",
        "from chatterbot.trainers import ChatterBotCorpusTrainer\n",
        "\n",
        "corpus_trainer=ChatterBotCorpusTrainer(my_Bot)\n",
        "corpus_trainer.train('chatterbot.corpus.english')"
      ],
      "execution_count": 11,
      "outputs": [
        {
          "output_type": "stream",
          "text": [
            "Training ai.yml: [####################] 100%\n",
            "Training botprofile.yml: [####################] 100%\n",
            "Training computers.yml: [####################] 100%\n",
            "Training conversations.yml: [####################] 100%\n",
            "Training emotion.yml: [####################] 100%\n",
            "Training food.yml: [####################] 100%\n",
            "Training gossip.yml: [####################] 100%\n",
            "Training greetings.yml: [####################] 100%\n",
            "Training health.yml: [####################] 100%\n",
            "Training history.yml: [####################] 100%\n",
            "Training humor.yml: [####################] 100%\n",
            "Training literature.yml: [####################] 100%\n",
            "Training money.yml: [####################] 100%\n",
            "Training movies.yml: [####################] 100%\n",
            "Training politics.yml: [####################] 100%\n",
            "Training psychology.yml: [####################] 100%\n",
            "Training science.yml: [####################] 100%\n",
            "Training sports.yml: [####################] 100%\n",
            "Training trivia.yml: [####################] 100%\n"
          ],
          "name": "stdout"
        }
      ]
    },
    {
      "cell_type": "code",
      "metadata": {
        "colab": {
          "base_uri": "https://localhost:8080/"
        },
        "id": "Z8IeVq3Y3V6t",
        "outputId": "2cee3b8d-ddb2-4239-ef15-f4feb4da2d2d"
      },
      "source": [
        "print(my_Bot.get_response('Hi...'))"
      ],
      "execution_count": 13,
      "outputs": [
        {
          "output_type": "stream",
          "text": [
            "how are you?\n"
          ],
          "name": "stdout"
        }
      ]
    },
    {
      "cell_type": "code",
      "metadata": {
        "colab": {
          "base_uri": "https://localhost:8080/"
        },
        "id": "4FxwqIpJ3inu",
        "outputId": "f30a395b-1f49-4262-ecf0-34b9b3ea2567"
      },
      "source": [
        "print(my_Bot.get_response('What\\'s your name?'))"
      ],
      "execution_count": 16,
      "outputs": [
        {
          "output_type": "stream",
          "text": [
            "i'm PyBot.Ask me anything\n"
          ],
          "name": "stdout"
        }
      ]
    }
  ]
}